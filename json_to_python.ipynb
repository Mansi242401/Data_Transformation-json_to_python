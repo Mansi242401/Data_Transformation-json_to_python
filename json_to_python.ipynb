{
 "cells": [
  {
   "cell_type": "code",
   "execution_count": 2,
   "id": "20a9a737",
   "metadata": {},
   "outputs": [],
   "source": [
    "import pandas as pd\n",
    "import json"
   ]
  },
  {
   "cell_type": "code",
   "execution_count": 3,
   "id": "03c21dce",
   "metadata": {},
   "outputs": [],
   "source": [
    "path = 'data.json'"
   ]
  },
  {
   "cell_type": "code",
   "execution_count": 4,
   "id": "e656e4e9",
   "metadata": {},
   "outputs": [],
   "source": [
    "with open (path ,\"r\") as f:\n",
    "    data = json.load(f)"
   ]
  },
  {
   "cell_type": "code",
   "execution_count": 8,
   "id": "26e2fb80",
   "metadata": {},
   "outputs": [
    {
     "name": "stdout",
     "output_type": "stream",
     "text": [
      "{\n",
      "  \"sentences\": [\n",
      "    {\n",
      "      \"index\": 0,\n",
      "      \"tokens\": [\n",
      "        {\n",
      "          \"characterOffsetEnd\": 4,\n",
      "          \"before\": \"\",\n",
      "          \"index\": 1,\n",
      "          \"lemma\": \"datum\",\n",
      "          \"originalText\": \"data\",\n",
      "          \"characterOffsetBegin\": 0,\n",
      "          \"pos\": \"NNS\",\n",
      "          \"ner\": \"O\",\n",
      "          \"after\": \"\",\n",
      "          \"word\": \"data\"\n",
      "        },\n",
      "        {\n",
      "          \"characterOffsetEnd\": 5,\n",
      "          \"before\": \"\",\n",
      "          \"index\": 2,\n",
      "          \"lemma\": \"=\",\n",
      "          \"originalText\": \"=\",\n",
      "          \"characterOffsetBegin\": 4,\n",
      "          \"pos\": \"SYM\",\n",
      "          \"ner\": \"O\",\n",
      "          \"after\": \"\",\n",
      "          \"word\": \"=\"\n",
      "        },\n",
      "        {\n",
      "          \"characterOffsetEnd\": 10,\n",
      "          \"before\": \"\",\n",
      "          \"index\": 3,\n",
      "          \"lemma\": \"there\",\n",
      "          \"originalText\": \"There\",\n",
      "          \"characterOffsetBegin\": 5,\n",
      "          \"pos\": \"EX\",\n",
      "          \"ner\": \"O\",\n",
      "          \"after\": \" \",\n",
      "          \"word\": \"There\"\n",
      "        },\n",
      "        {\n",
      " \n"
     ]
    }
   ],
   "source": [
    "print(json.dumps(data, indent=2)[:950])"
   ]
  },
  {
   "cell_type": "code",
   "execution_count": 81,
   "id": "dca5a30c",
   "metadata": {},
   "outputs": [],
   "source": [
    "def counter(data):\n",
    "    c=0\n",
    "    for i in data['sentences']:\n",
    "        c =c+1\n",
    "    return c\n",
    "        "
   ]
  },
  {
   "cell_type": "code",
   "execution_count": 82,
   "id": "364d27c6",
   "metadata": {},
   "outputs": [],
   "source": [
    "def extract_entity(data,counter):\n",
    "    for i in range(counter):\n",
    "        b = []\n",
    "        a = data['sentences'][i]['entitymentions']\n",
    "        b.append(a)\n",
    "    return b\n"
   ]
  },
  {
   "cell_type": "code",
   "execution_count": 127,
   "id": "0495d6fb",
   "metadata": {},
   "outputs": [],
   "source": [
    "def result(entity_mentions):\n",
    "    for entity in entity_mentions:\n",
    "#         print(entity)\n",
    "        for records in entity:\n",
    "#             print (records['ner'])  \n",
    "            if records['ner'] == 'ORGANIZATION' or records['ner'] == 'PERSON' or records['ner'] == 'STATE_OR_PROVINCE':\n",
    "                print (records['nerConfidences'],records['ner'],records['text'])\n"
   ]
  },
  {
   "cell_type": "code",
   "execution_count": 130,
   "id": "d5ce2032",
   "metadata": {},
   "outputs": [],
   "source": [
    "def final(data):\n",
    "    c=counter(data)\n",
    "    e=extract_entity(data,c)\n",
    "    return result(e)\n",
    "    \n",
    "    "
   ]
  },
  {
   "cell_type": "code",
   "execution_count": 131,
   "id": "ea602ba1",
   "metadata": {},
   "outputs": [
    {
     "name": "stdout",
     "output_type": "stream",
     "text": [
      "{'PERSON': 0.99682234218644} PERSON Susan Henderson\n",
      "{'LOCATION': 0.97476360784482} STATE_OR_PROVINCE California\n",
      "{'ORGANIZATION': 0.989188087801} ORGANIZATION Hudson Henderson and Company Inc.\n"
     ]
    }
   ],
   "source": [
    "final(data)"
   ]
  }
 ],
 "metadata": {
  "kernelspec": {
   "display_name": "Python 3 (ipykernel)",
   "language": "python",
   "name": "python3"
  },
  "language_info": {
   "codemirror_mode": {
    "name": "ipython",
    "version": 3
   },
   "file_extension": ".py",
   "mimetype": "text/x-python",
   "name": "python",
   "nbconvert_exporter": "python",
   "pygments_lexer": "ipython3",
   "version": "3.9.7"
  }
 },
 "nbformat": 4,
 "nbformat_minor": 5
}
